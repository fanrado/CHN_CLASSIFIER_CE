{
 "cells": [
  {
   "cell_type": "code",
   "execution_count": 1,
   "id": "94115016-f377-4de4-a320-4d1485d55e8f",
   "metadata": {},
   "outputs": [],
   "source": [
    "import numpy as np\n",
    "import os, sys\n",
    "import matplotlib.pyplot as plt\n",
    "import pandas as pd\n",
    "from response import response"
   ]
  },
  {
   "cell_type": "markdown",
   "id": "dc420be4-278d-43fb-8b16-d4b9461345c7",
   "metadata": {},
   "source": [
    "---------------\n",
    "* We need two parameters for the response function which is a fitting function of response of each channel.\n",
    "* First parameter: x is the timing information in the waveform.\n",
    "* Second parameter: param = [2.0, 1.5, 0.8, 0.6, 0.4, 0.2, 0.1].\n",
    "  1. The First element defines a shifting value that we might use for the time information\n",
    "  2. The second element defines the amplitude of the fitted waveform.\n",
    "  3. The third element defines the peaking time of the waveform, which is the time needed to reach the peak of the waveform.\n",
    "  4. 4th, 5th, 6th, and 7th are the parameters k3[i], k4[i], k5[i], and k6[i] of the fit. A classification of the waveforms will be based on the values of these parameters."
   ]
  },
  {
   "cell_type": "code",
   "execution_count": 2,
   "id": "8bcb77af-efe6-4525-8c7d-f4cc195e8052",
   "metadata": {},
   "outputs": [
    {
     "data": {
      "text/html": [
       "<div>\n",
       "<style scoped>\n",
       "    .dataframe tbody tr th:only-of-type {\n",
       "        vertical-align: middle;\n",
       "    }\n",
       "\n",
       "    .dataframe tbody tr th {\n",
       "        vertical-align: top;\n",
       "    }\n",
       "\n",
       "    .dataframe thead th {\n",
       "        text-align: right;\n",
       "    }\n",
       "</style>\n",
       "<table border=\"1\" class=\"dataframe\">\n",
       "  <thead>\n",
       "    <tr style=\"text-align: right;\">\n",
       "      <th></th>\n",
       "      <th>#Ch. #</th>\n",
       "      <th>t</th>\n",
       "      <th>E(t)</th>\n",
       "      <th>A_0</th>\n",
       "      <th>E(A_0)</th>\n",
       "      <th>t_p</th>\n",
       "      <th>E(t_p)</th>\n",
       "      <th>k3</th>\n",
       "      <th>E(k3)</th>\n",
       "      <th>k4</th>\n",
       "      <th>E(k4)</th>\n",
       "      <th>k5</th>\n",
       "      <th>E(k5)</th>\n",
       "      <th>k6</th>\n",
       "      <th>E(k6)</th>\n",
       "      <th>Chi2/DOF</th>\n",
       "      <th>Overshoot</th>\n",
       "      <th>Undershoot</th>\n",
       "      <th>Ideal</th>\n",
       "      <th>Singularity</th>\n",
       "    </tr>\n",
       "  </thead>\n",
       "  <tbody>\n",
       "    <tr>\n",
       "      <th>0</th>\n",
       "      <td>0</td>\n",
       "      <td>5.168380</td>\n",
       "      <td>0.016480</td>\n",
       "      <td>63551.21586</td>\n",
       "      <td>457.255779</td>\n",
       "      <td>2.005194</td>\n",
       "      <td>0.011204</td>\n",
       "      <td>0.084885</td>\n",
       "      <td>0.016731</td>\n",
       "      <td>0.083182</td>\n",
       "      <td>0.007405</td>\n",
       "      <td>0.084845</td>\n",
       "      <td>0.017068</td>\n",
       "      <td>0.083149</td>\n",
       "      <td>0.007296</td>\n",
       "      <td>8.314216</td>\n",
       "      <td>True</td>\n",
       "      <td>False</td>\n",
       "      <td>False</td>\n",
       "      <td>False</td>\n",
       "    </tr>\n",
       "    <tr>\n",
       "      <th>1</th>\n",
       "      <td>1</td>\n",
       "      <td>5.125260</td>\n",
       "      <td>0.016402</td>\n",
       "      <td>64050.18259</td>\n",
       "      <td>453.216645</td>\n",
       "      <td>1.982492</td>\n",
       "      <td>0.010483</td>\n",
       "      <td>0.076184</td>\n",
       "      <td>0.002083</td>\n",
       "      <td>0.082611</td>\n",
       "      <td>0.002288</td>\n",
       "      <td>-0.168491</td>\n",
       "      <td>0.000001</td>\n",
       "      <td>-0.168490</td>\n",
       "      <td>0.000001</td>\n",
       "      <td>6.624724</td>\n",
       "      <td>False</td>\n",
       "      <td>True</td>\n",
       "      <td>False</td>\n",
       "      <td>False</td>\n",
       "    </tr>\n",
       "    <tr>\n",
       "      <th>2</th>\n",
       "      <td>2</td>\n",
       "      <td>5.126215</td>\n",
       "      <td>0.016700</td>\n",
       "      <td>63789.33173</td>\n",
       "      <td>450.512634</td>\n",
       "      <td>2.051578</td>\n",
       "      <td>0.011507</td>\n",
       "      <td>0.128736</td>\n",
       "      <td>0.002802</td>\n",
       "      <td>0.144325</td>\n",
       "      <td>0.002418</td>\n",
       "      <td>0.128579</td>\n",
       "      <td>0.002794</td>\n",
       "      <td>0.115445</td>\n",
       "      <td>0.001615</td>\n",
       "      <td>3.475155</td>\n",
       "      <td>False</td>\n",
       "      <td>True</td>\n",
       "      <td>False</td>\n",
       "      <td>False</td>\n",
       "    </tr>\n",
       "    <tr>\n",
       "      <th>3</th>\n",
       "      <td>3</td>\n",
       "      <td>5.126688</td>\n",
       "      <td>0.017194</td>\n",
       "      <td>63692.52284</td>\n",
       "      <td>455.249167</td>\n",
       "      <td>1.971281</td>\n",
       "      <td>0.011576</td>\n",
       "      <td>0.093918</td>\n",
       "      <td>0.037538</td>\n",
       "      <td>0.136646</td>\n",
       "      <td>0.003721</td>\n",
       "      <td>0.093917</td>\n",
       "      <td>0.037537</td>\n",
       "      <td>0.058203</td>\n",
       "      <td>0.001226</td>\n",
       "      <td>5.964010</td>\n",
       "      <td>False</td>\n",
       "      <td>True</td>\n",
       "      <td>False</td>\n",
       "      <td>False</td>\n",
       "    </tr>\n",
       "    <tr>\n",
       "      <th>4</th>\n",
       "      <td>4</td>\n",
       "      <td>5.055860</td>\n",
       "      <td>0.022534</td>\n",
       "      <td>74734.46744</td>\n",
       "      <td>16428.503940</td>\n",
       "      <td>2.233869</td>\n",
       "      <td>0.024320</td>\n",
       "      <td>0.972904</td>\n",
       "      <td>0.066550</td>\n",
       "      <td>1.267541</td>\n",
       "      <td>0.075325</td>\n",
       "      <td>0.026909</td>\n",
       "      <td>0.004198</td>\n",
       "      <td>0.025164</td>\n",
       "      <td>0.004034</td>\n",
       "      <td>2.673853</td>\n",
       "      <td>False</td>\n",
       "      <td>True</td>\n",
       "      <td>False</td>\n",
       "      <td>False</td>\n",
       "    </tr>\n",
       "    <tr>\n",
       "      <th>...</th>\n",
       "      <td>...</td>\n",
       "      <td>...</td>\n",
       "      <td>...</td>\n",
       "      <td>...</td>\n",
       "      <td>...</td>\n",
       "      <td>...</td>\n",
       "      <td>...</td>\n",
       "      <td>...</td>\n",
       "      <td>...</td>\n",
       "      <td>...</td>\n",
       "      <td>...</td>\n",
       "      <td>...</td>\n",
       "      <td>...</td>\n",
       "      <td>...</td>\n",
       "      <td>...</td>\n",
       "      <td>...</td>\n",
       "      <td>...</td>\n",
       "      <td>...</td>\n",
       "      <td>...</td>\n",
       "      <td>...</td>\n",
       "    </tr>\n",
       "    <tr>\n",
       "      <th>20475</th>\n",
       "      <td>10235</td>\n",
       "      <td>5.101184</td>\n",
       "      <td>0.015606</td>\n",
       "      <td>76216.71273</td>\n",
       "      <td>493.706403</td>\n",
       "      <td>2.068169</td>\n",
       "      <td>0.010576</td>\n",
       "      <td>0.052520</td>\n",
       "      <td>0.000635</td>\n",
       "      <td>0.059161</td>\n",
       "      <td>0.000559</td>\n",
       "      <td>0.050288</td>\n",
       "      <td>0.000611</td>\n",
       "      <td>0.044591</td>\n",
       "      <td>0.000453</td>\n",
       "      <td>3.960262</td>\n",
       "      <td>False</td>\n",
       "      <td>True</td>\n",
       "      <td>False</td>\n",
       "      <td>False</td>\n",
       "    </tr>\n",
       "    <tr>\n",
       "      <th>20476</th>\n",
       "      <td>10236</td>\n",
       "      <td>5.092284</td>\n",
       "      <td>0.016012</td>\n",
       "      <td>74529.32006</td>\n",
       "      <td>485.433216</td>\n",
       "      <td>2.151517</td>\n",
       "      <td>0.011246</td>\n",
       "      <td>-0.122913</td>\n",
       "      <td>0.000001</td>\n",
       "      <td>0.046218</td>\n",
       "      <td>0.000470</td>\n",
       "      <td>0.043957</td>\n",
       "      <td>0.000450</td>\n",
       "      <td>-0.122915</td>\n",
       "      <td>0.000001</td>\n",
       "      <td>3.615962</td>\n",
       "      <td>False</td>\n",
       "      <td>True</td>\n",
       "      <td>False</td>\n",
       "      <td>False</td>\n",
       "    </tr>\n",
       "    <tr>\n",
       "      <th>20477</th>\n",
       "      <td>10237</td>\n",
       "      <td>5.109026</td>\n",
       "      <td>0.015401</td>\n",
       "      <td>75761.00213</td>\n",
       "      <td>489.494351</td>\n",
       "      <td>2.060611</td>\n",
       "      <td>0.010334</td>\n",
       "      <td>0.014339</td>\n",
       "      <td>0.000353</td>\n",
       "      <td>0.029083</td>\n",
       "      <td>0.000344</td>\n",
       "      <td>0.021926</td>\n",
       "      <td>0.000426</td>\n",
       "      <td>0.010108</td>\n",
       "      <td>0.000264</td>\n",
       "      <td>3.600842</td>\n",
       "      <td>False</td>\n",
       "      <td>True</td>\n",
       "      <td>False</td>\n",
       "      <td>False</td>\n",
       "    </tr>\n",
       "    <tr>\n",
       "      <th>20478</th>\n",
       "      <td>10238</td>\n",
       "      <td>5.040453</td>\n",
       "      <td>0.016358</td>\n",
       "      <td>75351.59727</td>\n",
       "      <td>483.226248</td>\n",
       "      <td>2.216201</td>\n",
       "      <td>0.011431</td>\n",
       "      <td>0.017719</td>\n",
       "      <td>0.001247</td>\n",
       "      <td>0.044592</td>\n",
       "      <td>0.001441</td>\n",
       "      <td>0.017691</td>\n",
       "      <td>0.001243</td>\n",
       "      <td>0.006902</td>\n",
       "      <td>0.001319</td>\n",
       "      <td>4.925204</td>\n",
       "      <td>False</td>\n",
       "      <td>True</td>\n",
       "      <td>False</td>\n",
       "      <td>False</td>\n",
       "    </tr>\n",
       "    <tr>\n",
       "      <th>20479</th>\n",
       "      <td>10239</td>\n",
       "      <td>5.100931</td>\n",
       "      <td>0.015365</td>\n",
       "      <td>75854.15112</td>\n",
       "      <td>486.581889</td>\n",
       "      <td>2.068326</td>\n",
       "      <td>0.010212</td>\n",
       "      <td>0.016015</td>\n",
       "      <td>0.000475</td>\n",
       "      <td>0.030790</td>\n",
       "      <td>0.000356</td>\n",
       "      <td>0.016116</td>\n",
       "      <td>0.000476</td>\n",
       "      <td>0.006986</td>\n",
       "      <td>0.000300</td>\n",
       "      <td>2.733210</td>\n",
       "      <td>False</td>\n",
       "      <td>True</td>\n",
       "      <td>False</td>\n",
       "      <td>False</td>\n",
       "    </tr>\n",
       "  </tbody>\n",
       "</table>\n",
       "<p>20480 rows × 20 columns</p>\n",
       "</div>"
      ],
      "text/plain": [
       "       #Ch. #         t      E(t)          A_0        E(A_0)       t_p   \\\n",
       "0            0  5.168380  0.016480  63551.21586    457.255779  2.005194   \n",
       "1            1  5.125260  0.016402  64050.18259    453.216645  1.982492   \n",
       "2            2  5.126215  0.016700  63789.33173    450.512634  2.051578   \n",
       "3            3  5.126688  0.017194  63692.52284    455.249167  1.971281   \n",
       "4            4  5.055860  0.022534  74734.46744  16428.503940  2.233869   \n",
       "...        ...       ...       ...          ...           ...       ...   \n",
       "20475    10235  5.101184  0.015606  76216.71273    493.706403  2.068169   \n",
       "20476    10236  5.092284  0.016012  74529.32006    485.433216  2.151517   \n",
       "20477    10237  5.109026  0.015401  75761.00213    489.494351  2.060611   \n",
       "20478    10238  5.040453  0.016358  75351.59727    483.226248  2.216201   \n",
       "20479    10239  5.100931  0.015365  75854.15112    486.581889  2.068326   \n",
       "\n",
       "        E(t_p)        k3     E(k3)        k4     E(k4)        k5     E(k5)   \\\n",
       "0      0.011204  0.084885  0.016731  0.083182  0.007405  0.084845  0.017068   \n",
       "1      0.010483  0.076184  0.002083  0.082611  0.002288 -0.168491  0.000001   \n",
       "2      0.011507  0.128736  0.002802  0.144325  0.002418  0.128579  0.002794   \n",
       "3      0.011576  0.093918  0.037538  0.136646  0.003721  0.093917  0.037537   \n",
       "4      0.024320  0.972904  0.066550  1.267541  0.075325  0.026909  0.004198   \n",
       "...         ...       ...       ...       ...       ...       ...       ...   \n",
       "20475  0.010576  0.052520  0.000635  0.059161  0.000559  0.050288  0.000611   \n",
       "20476  0.011246 -0.122913  0.000001  0.046218  0.000470  0.043957  0.000450   \n",
       "20477  0.010334  0.014339  0.000353  0.029083  0.000344  0.021926  0.000426   \n",
       "20478  0.011431  0.017719  0.001247  0.044592  0.001441  0.017691  0.001243   \n",
       "20479  0.010212  0.016015  0.000475  0.030790  0.000356  0.016116  0.000476   \n",
       "\n",
       "            k6     E(k6)    Chi2/DOF  Overshoot  Undershoot  Ideal  \\\n",
       "0      0.083149  0.007296   8.314216       True       False  False   \n",
       "1     -0.168490  0.000001   6.624724      False        True  False   \n",
       "2      0.115445  0.001615   3.475155      False        True  False   \n",
       "3      0.058203  0.001226   5.964010      False        True  False   \n",
       "4      0.025164  0.004034   2.673853      False        True  False   \n",
       "...         ...       ...        ...        ...         ...    ...   \n",
       "20475  0.044591  0.000453   3.960262      False        True  False   \n",
       "20476 -0.122915  0.000001   3.615962      False        True  False   \n",
       "20477  0.010108  0.000264   3.600842      False        True  False   \n",
       "20478  0.006902  0.001319   4.925204      False        True  False   \n",
       "20479  0.006986  0.000300   2.733210      False        True  False   \n",
       "\n",
       "       Singularity  \n",
       "0            False  \n",
       "1            False  \n",
       "2            False  \n",
       "3            False  \n",
       "4            False  \n",
       "...            ...  \n",
       "20475        False  \n",
       "20476        False  \n",
       "20477        False  \n",
       "20478        False  \n",
       "20479        False  \n",
       "\n",
       "[20480 rows x 20 columns]"
      ]
     },
     "execution_count": 2,
     "metadata": {},
     "output_type": "execute_result"
    }
   ],
   "source": [
    "# Read real data and extract the ranges of the fit parameters\n",
    "real_data_df = pd.read_csv('data/two_data.csv')\n",
    "real_data_df"
   ]
  },
  {
   "cell_type": "code",
   "execution_count": 3,
   "id": "1738aa89-f01b-48e9-bca6-ecc7190a583c",
   "metadata": {},
   "outputs": [],
   "source": [
    "# classify the parameter ranges\n",
    "k3_ranges = {'below 2': real_data_df[real_data_df[' k3 ']<2][' k3 '], 'above 2': real_data_df[real_data_df[' k3 ']>=2][' k3 ']}\n",
    "k4_ranges = {'below 2': real_data_df[real_data_df[' k4 ']<2][' k4 '], 'above 2': real_data_df[real_data_df[' k4 ']>=2][' k4 ']}\n",
    "k5_ranges = {'below 2': real_data_df[real_data_df[' k5 ']<2][' k5 '], 'above 2': real_data_df[real_data_df[' k5 ']>=2][' k5 ']}\n",
    "k6_ranges = {'below 2': real_data_df[real_data_df[' k6 ']<2][' k6 '], 'above 2': real_data_df[real_data_df[' k6 ']>=2][' k6 ']}"
   ]
  },
  {
   "cell_type": "code",
   "execution_count": 4,
   "id": "f8f67498-91a5-40df-81ff-a66dcf099fb9",
   "metadata": {},
   "outputs": [
    {
     "name": "stderr",
     "output_type": "stream",
     "text": [
      "<>:9: SyntaxWarning: invalid escape sequence '\\s'\n",
      "<>:9: SyntaxWarning: invalid escape sequence '\\s'\n",
      "/tmp/ipykernel_55847/3315460537.py:9: SyntaxWarning: invalid escape sequence '\\s'\n",
      "  ax[i].step(bins[:-1], counts, where='post', label=f'{key}\\n mean = {mean}, $\\sigma$ = {std}\\n median = {median}')\n"
     ]
    },
    {
     "data": {
      "image/png": "[encoded data removed]",
      "text/plain": [
       "<Figure size 1000x500 with 2 Axes>"
      ]
     },
     "metadata": {},
     "output_type": "display_data"
    }
   ],
   "source": [
    "fig, ax = plt.subplots(1,2,figsize=(5*2, 5))\n",
    "i = 0\n",
    "for key, item in k3_ranges.items():\n",
    "    # Create histogram using numpy\n",
    "    counts, bins = np.histogram(item, bins=100)  # 50 bins\n",
    "    mean, std = np.round(np.mean(item),2), np.round(np.std(item),2)\n",
    "    median = np.round(np.median(item),2)\n",
    "    # 'steps-post' means the step happens after the point\n",
    "    ax[i].step(bins[:-1], counts, where='post', label=f'{key}\\n mean = {mean}, $\\sigma$ = {std}\\n median = {median}')\n",
    "    ax[i].set_xlabel('k3')\n",
    "    ax[i].set_ylabel('#')\n",
    "    ax[i].grid(True, alpha=0.3)\n",
    "    ax[i].legend()\n",
    "    i+=1"
   ]
  },
  {
   "cell_type": "code",
   "execution_count": 5,
   "id": "70c14feb-566a-4e1b-8cca-8493c955d31d",
   "metadata": {},
   "outputs": [
    {
     "name": "stderr",
     "output_type": "stream",
     "text": [
      "<>:9: SyntaxWarning: invalid escape sequence '\\s'\n",
      "<>:9: SyntaxWarning: invalid escape sequence '\\s'\n",
      "/tmp/ipykernel_55847/3484747321.py:9: SyntaxWarning: invalid escape sequence '\\s'\n",
      "  ax[i].step(bins[:-1], counts, where='post', label=f'{key}\\n mean = {mean}, $\\sigma$ = {std}\\n median = {median}')\n"
     ]
    },
    {
     "data": {
      "image/png": "[encoded data removed]",
      "text/plain": [
       "<Figure size 1000x500 with 2 Axes>"
      ]
     },
     "metadata": {},
     "output_type": "display_data"
    }
   ],
   "source": [
    "fig, ax = plt.subplots(1,2,figsize=(5*2, 5))\n",
    "i = 0\n",
    "for key, item in k4_ranges.items():\n",
    "    # Create histogram using numpy\n",
    "    counts, bins = np.histogram(item, bins=100)  # 50 bins\n",
    "    mean, std = np.round(np.mean(item),2), np.round(np.std(item),2)\n",
    "    median = np.round(np.median(item),2)\n",
    "    # 'steps-post' means the step happens after the point\n",
    "    ax[i].step(bins[:-1], counts, where='post', label=f'{key}\\n mean = {mean}, $\\sigma$ = {std}\\n median = {median}')\n",
    "    ax[i].set_xlabel('k4')\n",
    "    ax[i].set_ylabel('#')\n",
    "    ax[i].grid(True, alpha=0.3)\n",
    "    ax[i].legend()\n",
    "    i+=1"
   ]
  },
  {
   "cell_type": "code",
   "execution_count": 6,
   "id": "b13982af-ce68-4a66-b2d4-15f7e5c74290",
   "metadata": {},
   "outputs": [
    {
     "name": "stderr",
     "output_type": "stream",
     "text": [
      "<>:9: SyntaxWarning: invalid escape sequence '\\s'\n",
      "<>:9: SyntaxWarning: invalid escape sequence '\\s'\n",
      "/tmp/ipykernel_55847/2936338216.py:9: SyntaxWarning: invalid escape sequence '\\s'\n",
      "  ax[i].step(bins[:-1], counts, where='post', label=f'{key}\\n mean = {mean}, $\\sigma$ = {std}\\n median = {median}')\n"
     ]
    },
    {
     "data": {
      "image/png": "[encoded data removed]",
      "text/plain": [
       "<Figure size 1000x500 with 2 Axes>"
      ]
     },
     "metadata": {},
     "output_type": "display_data"
    }
   ],
   "source": [
    "fig, ax = plt.subplots(1,2,figsize=(5*2, 5))\n",
    "i = 0\n",
    "for key, item in k5_ranges.items():\n",
    "    # Create histogram using numpy\n",
    "    counts, bins = np.histogram(item, bins=100)  # 50 bins\n",
    "    mean, std = np.round(np.mean(item),2), np.round(np.std(item),2)\n",
    "    median = np.round(np.median(item),2)\n",
    "    # 'steps-post' means the step happens after the point\n",
    "    ax[i].step(bins[:-1], counts, where='post', label=f'{key}\\n mean = {mean}, $\\sigma$ = {std}\\n median = {median}')\n",
    "    ax[i].set_xlabel('k5')\n",
    "    ax[i].set_ylabel('#')\n",
    "    ax[i].grid(True, alpha=0.3)\n",
    "    ax[i].legend()\n",
    "    i+=1"
   ]
  },
  {
   "cell_type": "code",
   "execution_count": 7,
   "id": "63b6ccc0-32c0-4c59-9bd7-63e2dfb1f795",
   "metadata": {},
   "outputs": [
    {
     "name": "stderr",
     "output_type": "stream",
     "text": [
      "<>:9: SyntaxWarning: invalid escape sequence '\\s'\n",
      "<>:9: SyntaxWarning: invalid escape sequence '\\s'\n",
      "/tmp/ipykernel_55847/1896203076.py:9: SyntaxWarning: invalid escape sequence '\\s'\n",
      "  ax[i].step(bins[:-1], counts, where='post', label=f'{key}\\n mean = {mean}, $\\sigma$ = {std}\\n median = {median}')\n"
     ]
    },
    {
     "data": {
      "image/png": "[encoded data removed]",
      "text/plain": [
       "<Figure size 1000x500 with 2 Axes>"
      ]
     },
     "metadata": {},
     "output_type": "display_data"
    }
   ],
   "source": [
    "fig, ax = plt.subplots(1,2,figsize=(5*2, 5))\n",
    "i = 0\n",
    "for key, item in k6_ranges.items():\n",
    "    # Create histogram using numpy\n",
    "    counts, bins = np.histogram(item, bins=100)  # 50 bins\n",
    "    mean, std = np.round(np.mean(item),2), np.round(np.std(item),2)\n",
    "    median = np.round(np.median(item),2)\n",
    "    # 'steps-post' means the step happens after the point\n",
    "    ax[i].step(bins[:-1], counts, where='post', label=f'{key}\\n mean = {mean}, $\\sigma$ = {std}\\n median = {median}')\n",
    "    ax[i].set_xlabel('k6')\n",
    "    ax[i].set_ylabel('#')\n",
    "    ax[i].grid(True, alpha=0.3)\n",
    "    ax[i].legend()\n",
    "    i+=1"
   ]
  },
  {
   "cell_type": "code",
   "execution_count": 80,
   "id": "875fd3b6-f4af-480e-b738-a7bbb048f434",
   "metadata": {},
   "outputs": [
    {
     "data": {
      "image/png": "[encoded data removed]",
      "text/plain": [
       "<Figure size 640x480 with 1 Axes>"
      ]
     },
     "metadata": {},
     "output_type": "display_data"
    },
    {
     "data": {
      "text/plain": [
       "'\\n1. Ideal: k3[i]=k4[i] and k5[i]=k6[i], or k3[i]=k6[i] and k4[i]=k5[i]\\n2. Singularity: k4[i]=k6[i]\\n3. Overshoot: (k3[i]>k4[i] and k5[i]>=k6[i]), or (k5[i]>k6[i] and k3[i]>=k4[i]), or (k4[i]<k5[i] and (k3[i]>=k6[i]), or (k3[i]>k6[i] and k4[i]<=k5[i])  [It seems these conditions are not enough]\\n4. Undershoot: Otherwise\\n'"
      ]
     },
     "execution_count": 80,
     "metadata": {},
     "output_type": "execute_result"
    }
   ],
   "source": [
    "A = 1.5\n",
    "t0 = 2.0\n",
    "tp = 2.0\n",
    "n_samples = np.power(10, 6)\n",
    "np.random.seed(30)\n",
    "k3_all = np.random.uniform(0, 1, n_samples)\n",
    "k4_all = np.random.uniform(0, 1, n_samples)\n",
    "k5_all = np.random.uniform(0, 1, n_samples)\n",
    "k6_all = np.random.uniform(0, 1, n_samples)\n",
    "\n",
    "np.random.shuffle(k3_all)\n",
    "np.random.shuffle(k4_all)\n",
    "np.random.shuffle(k5_all)\n",
    "np.random.shuffle(k6_all)\n",
    "\n",
    "# x = [1.0,2.0,3.0,4.0,5.0]  # x is a list with one element\n",
    "x = np.linspace(0, 10, np.power(10, 2))\n",
    "par = [t0, A, tp+1, 0.6, 0.1, 0.4, 0.8]  # par is a list of 7 elements as per the function\n",
    "R = response(x=x, par=par)\n",
    "plt.figure()\n",
    "plt.plot(x, R)\n",
    "plt.show()\n",
    "'''\n",
    "1. Ideal: k3[i]=k4[i] and k5[i]=k6[i], or k3[i]=k6[i] and k4[i]=k5[i]\n",
    "2. Singularity: k4[i]=k6[i]\n",
    "3. Overshoot: (k3[i]>k4[i] and k5[i]>=k6[i]), or (k5[i]>k6[i] and k3[i]>=k4[i]), or (k4[i]<k5[i] and (k3[i]>=k6[i]), or (k3[i]>k6[i] and k4[i]<=k5[i])  [It seems these conditions are not enough]\n",
    "4. Undershoot: Otherwise\n",
    "'''"
   ]
  },
  {
   "cell_type": "code",
   "execution_count": 81,
   "id": "5e208f87-30a1-4533-9d27-c7feb1a3acc6",
   "metadata": {},
   "outputs": [],
   "source": [
    "def classify(k3,k4,k5,k6):\n",
    "    classes = []\n",
    "    for i in range(len(k3)):\n",
    "        if (k3[i]>2) | (k4[i]>2) | (k5[i]>2) | (k6[i]>2):\n",
    "            classes.append('Abnormal')\n",
    "        elif (k3[i]==k4[i]) and (k5[i]==k6[i]):\n",
    "            classes.append('Ideal')\n",
    "        elif k4[i]==k6[i]:\n",
    "            classes.append('Singularity')\n",
    "        elif (k3[i]>k4[i] and k5[i]>=k6[i]) | (k5[i]>k6[i] and k3[i]>=k4[i]) | ((k4[i]<k5[i]) and (k3[i]>=k6[i])) | (k3[i]>k5[i]):\n",
    "            classes.append('Overshoot')\n",
    "        else:\n",
    "             classes.append('Undershoot')\n",
    "    return classes"
   ]
  },
  {
   "cell_type": "code",
   "execution_count": 82,
   "id": "2fde7422-689a-4c67-ab6c-74d90d8df1ea",
   "metadata": {},
   "outputs": [],
   "source": [
    "## Undershoot/Overshoot data\n",
    "n_samples = 3*np.power(10, 5)\n",
    "k3_all_uo = np.random.uniform(-0.5, 0.82, n_samples)\n",
    "k4_all_uo = np.random.uniform(-0.64, 0.98, n_samples)\n",
    "k5_all_uo = np.random.uniform(-0.26, 0.34, n_samples)\n",
    "k6_all_uo = np.random.uniform(-0.23, 0.31, n_samples)\n",
    "\n",
    "np.random.shuffle(k3_all_uo)\n",
    "np.random.shuffle(k4_all_uo)\n",
    "np.random.shuffle(k5_all_uo)\n",
    "np.random.shuffle(k6_all_uo)\n",
    "\n",
    "df = pd.DataFrame({'k3':k3_all_uo, 'k4':k4_all_uo, 'k5':k5_all_uo, 'k6': k6_all_uo})\n",
    "df['class'] = classify(k3=df['k3'], k4=df['k4'], k5=df['k5'], k6=df['k6'])"
   ]
  },
  {
   "cell_type": "code",
   "execution_count": 83,
   "id": "ccb2bd8d-16e7-4ea0-898f-aab9162411b0",
   "metadata": {},
   "outputs": [],
   "source": [
    "# Ideal / Singularity\n",
    "n_samples = 3*np.power(10, 5)\n",
    "k3_all_is = np.concatenate([np.linspace(-0.64, 0.98, n_samples), np.linspace(-0.5, 0.82, n_samples), np.random.uniform(-0.64, 0.98, n_samples), np.random.uniform(2, 1E6, n_samples)])\n",
    "k4_all_is = np.concatenate([np.linspace(-0.64, 0.98, n_samples), np.linspace(-0.64, 0.98, n_samples), np.linspace(-0.64, 0.98, n_samples), np.random.uniform(2, 1E6, n_samples)])\n",
    "k5_all_is = np.concatenate([np.linspace(-0.26, 0.34, n_samples), np.linspace(-0.64, 0.98, n_samples), np.random.uniform(-0.64, 0.98, n_samples), np.random.uniform(2, 1E6, n_samples)])\n",
    "k6_all_is = np.concatenate([np.linspace(-0.26, 0.34, n_samples), np.linspace(-0.5, 0.82, n_samples), np.linspace(-0.64, 0.98, n_samples), np.random.uniform(2, 1E6, n_samples)])\n",
    "\n",
    "# np.random.shuffle(k3_all_uo)\n",
    "# np.random.shuffle(k4_all_uo)\n",
    "# np.random.shuffle(k5_all_uo)\n",
    "# np.random.shuffle(k6_all_uo)\n",
    "dff = pd.DataFrame({'k3': k3_all_is, 'k4': k4_all_is, 'k5': k5_all_is, 'k6': k6_all_is})\n",
    "dff['class'] = classify(k3=k3_all_is, k4=k4_all_is, k5=k5_all_is, k6=k6_all_is)"
   ]
  },
  {
   "cell_type": "code",
   "execution_count": 84,
   "id": "13cce1a5-1767-4b10-9741-bbf5dca1ba53",
   "metadata": {},
   "outputs": [],
   "source": [
    "df = pd.concat([df,dff], axis=0)"
   ]
  },
  {
   "cell_type": "code",
   "execution_count": 85,
   "id": "fca74dad-c9e3-4ab9-a762-1258ad15a3be",
   "metadata": {},
   "outputs": [],
   "source": [
    "shuffled_df = df.sample(frac=1, random_state=42).reset_index(drop=True)"
   ]
  },
  {
   "cell_type": "code",
   "execution_count": 86,
   "id": "0e5ca37e-a234-4698-af57-cbdb0ad14de6",
   "metadata": {},
   "outputs": [
    {
     "data": {
      "text/html": [
       "<div>\n",
       "<style scoped>\n",
       "    .dataframe tbody tr th:only-of-type {\n",
       "        vertical-align: middle;\n",
       "    }\n",
       "\n",
       "    .dataframe tbody tr th {\n",
       "        vertical-align: top;\n",
       "    }\n",
       "\n",
       "    .dataframe thead th {\n",
       "        text-align: right;\n",
       "    }\n",
       "</style>\n",
       "<table border=\"1\" class=\"dataframe\">\n",
       "  <thead>\n",
       "    <tr style=\"text-align: right;\">\n",
       "      <th></th>\n",
       "      <th>k3</th>\n",
       "      <th>k4</th>\n",
       "      <th>k5</th>\n",
       "      <th>k6</th>\n",
       "      <th>class</th>\n",
       "    </tr>\n",
       "  </thead>\n",
       "  <tbody>\n",
       "    <tr>\n",
       "      <th>0</th>\n",
       "      <td>-0.452744</td>\n",
       "      <td>-0.582004</td>\n",
       "      <td>-0.582004</td>\n",
       "      <td>-0.452744</td>\n",
       "      <td>Overshoot</td>\n",
       "    </tr>\n",
       "    <tr>\n",
       "      <th>1</th>\n",
       "      <td>-0.250516</td>\n",
       "      <td>0.686300</td>\n",
       "      <td>-0.039354</td>\n",
       "      <td>0.135301</td>\n",
       "      <td>Undershoot</td>\n",
       "    </tr>\n",
       "    <tr>\n",
       "      <th>2</th>\n",
       "      <td>-0.399387</td>\n",
       "      <td>0.708746</td>\n",
       "      <td>0.498897</td>\n",
       "      <td>0.708746</td>\n",
       "      <td>Singularity</td>\n",
       "    </tr>\n",
       "    <tr>\n",
       "      <th>3</th>\n",
       "      <td>0.149704</td>\n",
       "      <td>0.149704</td>\n",
       "      <td>0.032483</td>\n",
       "      <td>0.032483</td>\n",
       "      <td>Ideal</td>\n",
       "    </tr>\n",
       "    <tr>\n",
       "      <th>4</th>\n",
       "      <td>-0.033138</td>\n",
       "      <td>0.504122</td>\n",
       "      <td>0.040915</td>\n",
       "      <td>0.220249</td>\n",
       "      <td>Undershoot</td>\n",
       "    </tr>\n",
       "    <tr>\n",
       "      <th>...</th>\n",
       "      <td>...</td>\n",
       "      <td>...</td>\n",
       "      <td>...</td>\n",
       "      <td>...</td>\n",
       "      <td>...</td>\n",
       "    </tr>\n",
       "    <tr>\n",
       "      <th>1499995</th>\n",
       "      <td>0.259645</td>\n",
       "      <td>0.028643</td>\n",
       "      <td>0.233821</td>\n",
       "      <td>0.214161</td>\n",
       "      <td>Overshoot</td>\n",
       "    </tr>\n",
       "    <tr>\n",
       "      <th>1499996</th>\n",
       "      <td>456143.342435</td>\n",
       "      <td>89004.676071</td>\n",
       "      <td>79153.249457</td>\n",
       "      <td>920308.283299</td>\n",
       "      <td>Abnormal</td>\n",
       "    </tr>\n",
       "    <tr>\n",
       "      <th>1499997</th>\n",
       "      <td>0.807450</td>\n",
       "      <td>0.011104</td>\n",
       "      <td>0.081955</td>\n",
       "      <td>0.016689</td>\n",
       "      <td>Overshoot</td>\n",
       "    </tr>\n",
       "    <tr>\n",
       "      <th>1499998</th>\n",
       "      <td>-0.186917</td>\n",
       "      <td>-0.255762</td>\n",
       "      <td>-0.255762</td>\n",
       "      <td>-0.186917</td>\n",
       "      <td>Overshoot</td>\n",
       "    </tr>\n",
       "    <tr>\n",
       "      <th>1499999</th>\n",
       "      <td>0.620466</td>\n",
       "      <td>-0.331382</td>\n",
       "      <td>0.321893</td>\n",
       "      <td>-0.034785</td>\n",
       "      <td>Overshoot</td>\n",
       "    </tr>\n",
       "  </tbody>\n",
       "</table>\n",
       "<p>1500000 rows × 5 columns</p>\n",
       "</div>"
      ],
      "text/plain": [
       "                    k3            k4            k5             k6        class\n",
       "0            -0.452744     -0.582004     -0.582004      -0.452744    Overshoot\n",
       "1            -0.250516      0.686300     -0.039354       0.135301   Undershoot\n",
       "2            -0.399387      0.708746      0.498897       0.708746  Singularity\n",
       "3             0.149704      0.149704      0.032483       0.032483        Ideal\n",
       "4            -0.033138      0.504122      0.040915       0.220249   Undershoot\n",
       "...                ...           ...           ...            ...          ...\n",
       "1499995       0.259645      0.028643      0.233821       0.214161    Overshoot\n",
       "1499996  456143.342435  89004.676071  79153.249457  920308.283299     Abnormal\n",
       "1499997       0.807450      0.011104      0.081955       0.016689    Overshoot\n",
       "1499998      -0.186917     -0.255762     -0.255762      -0.186917    Overshoot\n",
       "1499999       0.620466     -0.331382      0.321893      -0.034785    Overshoot\n",
       "\n",
       "[1500000 rows x 5 columns]"
      ]
     },
     "execution_count": 86,
     "metadata": {},
     "output_type": "execute_result"
    }
   ],
   "source": [
    "shuffled_df"
   ]
  },
  {
   "cell_type": "code",
   "execution_count": 87,
   "id": "09da7f26-6f0f-4bf6-b8f4-daf5a44915e4",
   "metadata": {},
   "outputs": [],
   "source": [
    "shuffled_df.to_csv('simulation_data.csv', index=False)"
   ]
  },
  {
   "cell_type": "code",
   "execution_count": null,
   "id": "6450194b-cba7-48f8-b5cf-d42365132363",
   "metadata": {},
   "outputs": [],
   "source": []
  },
  {
   "cell_type": "code",
   "execution_count": 183,
   "id": "1fc3db27-9522-4f8c-b38f-9e8180f2d66c",
   "metadata": {
    "scrolled": true
   },
   "outputs": [],
   "source": [
    "d = {'k3': list(k3_all), 'k4': list(k4_all), 'k5': list(k5_all), 'k6': list(k6_all)}"
   ]
  },
  {
   "cell_type": "code",
   "execution_count": 184,
   "id": "43dc2a29-cfd5-427c-ae22-5c0242901be7",
   "metadata": {},
   "outputs": [],
   "source": [
    "df = pd.DataFrame(d)"
   ]
  },
  {
   "cell_type": "code",
   "execution_count": 185,
   "id": "9e694feb-ae3c-46d0-aab9-692412cd5113",
   "metadata": {
    "scrolled": true
   },
   "outputs": [],
   "source": [
    "df['class'] = classify(k3=df['k3'], k4=df['k4'], k5=df['k5'], k6=df['k6'])"
   ]
  },
  {
   "cell_type": "code",
   "execution_count": 186,
   "id": "9d799c94-c2cb-4fa7-8cd7-f2a183b3002d",
   "metadata": {},
   "outputs": [
    {
     "data": {
      "text/html": [
       "<div>\n",
       "<style scoped>\n",
       "    .dataframe tbody tr th:only-of-type {\n",
       "        vertical-align: middle;\n",
       "    }\n",
       "\n",
       "    .dataframe tbody tr th {\n",
       "        vertical-align: top;\n",
       "    }\n",
       "\n",
       "    .dataframe thead th {\n",
       "        text-align: right;\n",
       "    }\n",
       "</style>\n",
       "<table border=\"1\" class=\"dataframe\">\n",
       "  <thead>\n",
       "    <tr style=\"text-align: right;\">\n",
       "      <th></th>\n",
       "      <th>k3</th>\n",
       "      <th>k4</th>\n",
       "      <th>k5</th>\n",
       "      <th>k6</th>\n",
       "      <th>class</th>\n",
       "    </tr>\n",
       "  </thead>\n",
       "  <tbody>\n",
       "    <tr>\n",
       "      <th>0</th>\n",
       "      <td>0.408232</td>\n",
       "      <td>0.239955</td>\n",
       "      <td>0.153430</td>\n",
       "      <td>0.809399</td>\n",
       "      <td>Undershoot</td>\n",
       "    </tr>\n",
       "    <tr>\n",
       "      <th>1</th>\n",
       "      <td>0.802189</td>\n",
       "      <td>0.650490</td>\n",
       "      <td>0.849338</td>\n",
       "      <td>0.470296</td>\n",
       "      <td>Overshoot</td>\n",
       "    </tr>\n",
       "    <tr>\n",
       "      <th>2</th>\n",
       "      <td>0.391896</td>\n",
       "      <td>0.186367</td>\n",
       "      <td>0.072552</td>\n",
       "      <td>0.612594</td>\n",
       "      <td>Undershoot</td>\n",
       "    </tr>\n",
       "    <tr>\n",
       "      <th>3</th>\n",
       "      <td>0.030705</td>\n",
       "      <td>0.451055</td>\n",
       "      <td>0.797794</td>\n",
       "      <td>0.155960</td>\n",
       "      <td>Undershoot</td>\n",
       "    </tr>\n",
       "    <tr>\n",
       "      <th>4</th>\n",
       "      <td>0.555868</td>\n",
       "      <td>0.641828</td>\n",
       "      <td>0.739862</td>\n",
       "      <td>0.955336</td>\n",
       "      <td>Undershoot</td>\n",
       "    </tr>\n",
       "    <tr>\n",
       "      <th>...</th>\n",
       "      <td>...</td>\n",
       "      <td>...</td>\n",
       "      <td>...</td>\n",
       "      <td>...</td>\n",
       "      <td>...</td>\n",
       "    </tr>\n",
       "    <tr>\n",
       "      <th>999995</th>\n",
       "      <td>0.173754</td>\n",
       "      <td>0.109708</td>\n",
       "      <td>0.436013</td>\n",
       "      <td>0.357679</td>\n",
       "      <td>Overshoot</td>\n",
       "    </tr>\n",
       "    <tr>\n",
       "      <th>999996</th>\n",
       "      <td>0.999325</td>\n",
       "      <td>0.177129</td>\n",
       "      <td>0.563228</td>\n",
       "      <td>0.240546</td>\n",
       "      <td>Overshoot</td>\n",
       "    </tr>\n",
       "    <tr>\n",
       "      <th>999997</th>\n",
       "      <td>0.415428</td>\n",
       "      <td>0.403832</td>\n",
       "      <td>0.002440</td>\n",
       "      <td>0.976899</td>\n",
       "      <td>Undershoot</td>\n",
       "    </tr>\n",
       "    <tr>\n",
       "      <th>999998</th>\n",
       "      <td>0.201680</td>\n",
       "      <td>0.315231</td>\n",
       "      <td>0.161832</td>\n",
       "      <td>0.233920</td>\n",
       "      <td>Undershoot</td>\n",
       "    </tr>\n",
       "    <tr>\n",
       "      <th>999999</th>\n",
       "      <td>0.168654</td>\n",
       "      <td>0.330411</td>\n",
       "      <td>0.287397</td>\n",
       "      <td>0.421634</td>\n",
       "      <td>Undershoot</td>\n",
       "    </tr>\n",
       "  </tbody>\n",
       "</table>\n",
       "<p>1000000 rows × 5 columns</p>\n",
       "</div>"
      ],
      "text/plain": [
       "              k3        k4        k5        k6       class\n",
       "0       0.408232  0.239955  0.153430  0.809399  Undershoot\n",
       "1       0.802189  0.650490  0.849338  0.470296   Overshoot\n",
       "2       0.391896  0.186367  0.072552  0.612594  Undershoot\n",
       "3       0.030705  0.451055  0.797794  0.155960  Undershoot\n",
       "4       0.555868  0.641828  0.739862  0.955336  Undershoot\n",
       "...          ...       ...       ...       ...         ...\n",
       "999995  0.173754  0.109708  0.436013  0.357679   Overshoot\n",
       "999996  0.999325  0.177129  0.563228  0.240546   Overshoot\n",
       "999997  0.415428  0.403832  0.002440  0.976899  Undershoot\n",
       "999998  0.201680  0.315231  0.161832  0.233920  Undershoot\n",
       "999999  0.168654  0.330411  0.287397  0.421634  Undershoot\n",
       "\n",
       "[1000000 rows x 5 columns]"
      ]
     },
     "execution_count": 186,
     "metadata": {},
     "output_type": "execute_result"
    }
   ],
   "source": [
    "df"
   ]
  },
  {
   "cell_type": "code",
   "execution_count": 187,
   "id": "2cb9f92e-2ccc-4c8e-a129-52ec16f0aa86",
   "metadata": {},
   "outputs": [],
   "source": [
    "df.to_csv('simulation_data.csv', index=False)"
   ]
  },
  {
   "cell_type": "code",
   "execution_count": 32,
   "id": "db55c67a-80b0-44d0-8c38-16e80edeffb7",
   "metadata": {},
   "outputs": [
    {
     "data": {
      "text/plain": [
       "(-0.5, 0.8200000000000001)"
      ]
     },
     "execution_count": 32,
     "metadata": {},
     "output_type": "execute_result"
    }
   ],
   "source": [
    "0.16-3*0.22, 0.16+3*0.22"
   ]
  },
  {
   "cell_type": "code",
   "execution_count": 33,
   "id": "aa255f91-898c-4916-b7bd-4e3595567944",
   "metadata": {},
   "outputs": [
    {
     "data": {
      "text/plain": [
       "(-0.64, 0.9800000000000001)"
      ]
     },
     "execution_count": 33,
     "metadata": {},
     "output_type": "execute_result"
    }
   ],
   "source": [
    "0.17-3*0.27,0.17+3*0.27"
   ]
  },
  {
   "cell_type": "code",
   "execution_count": 34,
   "id": "058dac9d-7563-457d-b226-d00b233a6611",
   "metadata": {},
   "outputs": [
    {
     "data": {
      "text/plain": [
       "(-0.26000000000000006, 0.34)"
      ]
     },
     "execution_count": 34,
     "metadata": {},
     "output_type": "execute_result"
    }
   ],
   "source": [
    "0.04-3*0.1,0.04+3*0.1"
   ]
  },
  {
   "cell_type": "code",
   "execution_count": 35,
   "id": "80b58b0d-ab39-4059-b8cc-fd245a31250d",
   "metadata": {},
   "outputs": [
    {
     "data": {
      "text/plain": [
       "(-0.23, 0.31)"
      ]
     },
     "execution_count": 35,
     "metadata": {},
     "output_type": "execute_result"
    }
   ],
   "source": [
    "0.04-3*0.09, 0.04+3*0.09"
   ]
  }
 ],
 "metadata": {
  "kernelspec": {
   "display_name": "Python 3 (ipykernel)",
   "language": "python",
   "name": "python3"
  },
  "language_info": {
   "codemirror_mode": {
    "name": "ipython",
    "version": 3
   },
   "file_extension": ".py",
   "mimetype": "text/x-python",
   "name": "python",
   "nbconvert_exporter": "python",
   "pygments_lexer": "ipython3",
   "version": "3.12.2"
  }
 },
 "nbformat": 4,
 "nbformat_minor": 5
}
